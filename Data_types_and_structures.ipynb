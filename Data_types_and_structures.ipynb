{
  "nbformat": 4,
  "nbformat_minor": 0,
  "metadata": {
    "colab": {
      "provenance": []
    },
    "kernelspec": {
      "name": "python3",
      "display_name": "Python 3"
    },
    "language_info": {
      "name": "python"
    }
  },
  "cells": [
    {
      "cell_type": "markdown",
      "source": [
        "# Data Types and Structures Questions\n",
        "\n",
        "Q1. DP What are data structures, and why are they important?\n",
        "\n",
        "  - Answer:\n",
        "\n",
        "  Data structures are a way of organizing and storing data in a computer so that it can be accessed and modified efficiently. In Python, data structures are essential because they help manage large amounts of data and perform operations such as searching, sorting, inserting, and deleting data effectively.\n",
        "\n",
        "Q2. Explain the difference between mutable and immutable data types with examples?\n",
        "\n",
        "  - Answer:\n",
        "\n",
        "  In Python, data types are classified into two categories based on whether their values can be changed after they are created:\n",
        "\n",
        "1. Mutable Data Types:\n",
        "Mutable data types can be changed after they are created. This means you can modify, add, or remove elements without changing the object’s identity.\n",
        "\n",
        "  Examples of Mutable Data Types:\n",
        "\n",
        "    List\n",
        "    Dictionary\n",
        "    Set\n",
        "\n",
        "2. Immutable Data Types:\n",
        "Immutable data types cannot be changed after they are created. Any modification results in a new object being created.\n",
        "\n",
        "  Examples of Immutable Data Types:\n",
        "\n",
        "    Integer\n",
        "    Float\n",
        "    String\n",
        "    Tuple\n",
        "\n",
        "Q3. What are the main differences between lists and tuples in Python?\n",
        "\n",
        "  - Answer:\n",
        "\n",
        "  Mutability:\n",
        "\n",
        "  Lists are mutable (can be changed).\n",
        "  Tuples are immutable (cannot be changed).\n",
        "\n",
        "  Syntax:\n",
        "\n",
        "  List: uses [] → e.g., [1, 2, 3]\n",
        "  Tuple: uses () → e.g., (1, 2, 3)\n",
        "\n",
        "  Performance:\n",
        "\n",
        "    Tuples are faster and use less memory than lists.\n",
        "\n",
        "  Methods:\n",
        "\n",
        "     Lists have more built-in methods (append(), remove() etc.).\n",
        "\n",
        "  Tuples have fewer methods.\n",
        "\n",
        "  Use Case:\n",
        "\n",
        "    Use lists for data that changes.\n",
        "    Use tuples for fixed data.\n",
        "\n",
        "Q4. Describe how dictionaries store data in Python.\n",
        "\n",
        "  - Answer:\n",
        "\n",
        "  Dictionaries store data as key-value pairs. Each key is unique and is used to access its corresponding value. They are mutable, meaning you can change, add, or remove items. Dictionaries are also insertion-ordered (from Python 3.7+), and provide fast access to data using keys.\n",
        "\n",
        "Q5. Why might you use a set instead of a list in Python?\n",
        "\n",
        "   - Answer:\n",
        "\n",
        "  We might use a set instead of a list when you need to:\n",
        "\n",
        "  Remove duplicate values automatically\n",
        "\n",
        "  Check for membership (e.g., x in set) faster\n",
        "\n",
        "  Perform mathematical operations like union, intersection, and difference\n",
        "\n",
        "  Sets are unordered and do not allow duplicates, while lists keep order and can have repeated items.\n",
        "\n",
        "Q6. What is a string in Python, and how is it different from a list?\n",
        "\n",
        "   - Answer:\n",
        "\n",
        "  A string in Python is a sequence of characters used to represent text. It is immutable, meaning you cannot change its characters after it is created.\n",
        "\n",
        "  A list is a collection of items (which can be of any data type) that is mutable, so you can change, add, or remove elements.\n",
        "\n",
        "  Key differences:\n",
        "\n",
        "  Data type: String stores characters; list stores multiple elements of any type.\n",
        "\n",
        "  Mutability: Strings are immutable; lists are mutable.\n",
        "\n",
        "  Usage: Strings are for text; lists are for collections of items.\n",
        "\n",
        "Q7: How do tuples ensure data integrity in Python?\n",
        "\n",
        "   - Answer:\n",
        "\n",
        "  Tuples ensure data integrity by being immutable, meaning once a tuple is created, its elements cannot be changed, added, or removed. This prevents accidental modification of the data, making tuples ideal for storing fixed collections of values that should remain constant throughout the program.\n",
        "\n",
        "Q8: What is a hash table, and how does it relate to dictionaries in Python?\n",
        "\n",
        "   - Answer:\n",
        "\n",
        "  A hash table is a data structure that stores data in key-value pairs and uses a hash function to quickly compute an index where the value is stored. This allows for fast data retrieval by key.\n",
        "\n",
        "  In Python, dictionaries are implemented using hash tables. When you use a key in a dictionary, Python uses a hash function to find where the value is stored, enabling quick access, insertion, and deletion of items.\n",
        "\n",
        "Q9: Can lists contain different data types in Python?\n",
        "\n",
        "  - Answer:\n",
        "\n",
        "  Yes, lists in Python can contain elements of different data types together. For example, a single list can hold integers, strings, floats, and even other lists or objects all at once.\n",
        "\n",
        "Q10: Explain why strings are immutable in Python?\n",
        "\n",
        "  - Answer:\n",
        "\n",
        "  Strings are immutable in Python to ensure security, consistency, and performance. Because strings cannot be changed after creation:\n",
        "\n",
        "  They can be safely shared between different parts of a program without risk of accidental modification.\n",
        "\n",
        "  They allow Python to optimize memory usage by reusing string objects.\n",
        "\n",
        "  Immutability also makes strings hashable, so they can be used as keys in dictionaries or elements in sets.\n",
        "\n",
        "Q11: What advantages do dictionaries offer over lists for certain tasks?\n",
        "\n",
        "  - Answer:\n",
        "\n",
        "  Dictionaries offer several advantages over lists for certain tasks:\n",
        "\n",
        "  Fast lookup: Accessing values by key is much faster than searching through a list.\n",
        "\n",
        "  Key-value pairing: Dictionaries store data as key-value pairs, making it easier to organize and retrieve related information.\n",
        "\n",
        "  No duplicate keys: Each key in a dictionary is unique, helping avoid data duplication.\n",
        "\n",
        "  Flexible keys: You can use meaningful keys (like names or IDs) instead of numeric indexes.\n",
        "\n",
        "Q12: Describe a scenario where using a tuple would be preferable over a list.\n",
        "\n",
        "  - Answer:\n",
        "\n",
        "  Using a tuple is preferable when you need to store a fixed collection of items that should not change throughout the program. For example, storing the coordinates of a point (x, y) or the days of the week is better with a tuple because immutability ensures the data remains constant and prevents accidental modification.\n",
        "\n",
        "Q13: How do sets handle duplicate values in Python?\n",
        "\n",
        "  - Answer:\n",
        "\n",
        "  Sets in Python automatically remove duplicate values. When you add elements to a set, any duplicates are ignored, so each value appears only once in the set.\n",
        "\n",
        "Q14: How does the “in” keyword work differently for lists and dictionaries?\n",
        "\n",
        "  - Answer:\n",
        "\n",
        "  For lists, the in keyword checks if a value exists anywhere in the list by scanning each element.\n",
        "\n",
        "  For dictionaries, the in keyword checks if a key exists in the dictionary, not the values.\n",
        "\n",
        "Q15: Can the elements of a tuple be modified? Explain why or why not.\n",
        "\n",
        "  - Answer:\n",
        "\n",
        "  No, the elements of a tuple cannot be modified because tuples are immutable. This means that once a tuple is created, its contents cannot be changed, added, or removed. This immutability ensures data integrity and allows tuples to be used as keys in dictionaries.\n",
        "\n",
        "Q16: What is a nested dictionary, and give an example of its use case?\n",
        "\n",
        "  - Answer:\n",
        "\n",
        "  A nested dictionary is a dictionary that contains another dictionary (or dictionaries) as its values. This allows organizing complex, hierarchical data in a structured way.\n",
        "\n",
        "  Use Case:\n",
        "  A nested dictionary can be used to store information about students and their grades in different subjects.\n",
        "\n",
        "Q17: Describe the time complexity of accessing elements in a dictionary.\n",
        "\n",
        "  - Answer:\n",
        "\n",
        "  Accessing elements in a Python dictionary generally has an average time complexity of O(1) (constant time). This is because dictionaries use a hash table internally, allowing direct access to values via their keys without searching through all items. However, in rare cases of many hash collisions, the worst-case time complexity can degrade to O(n).\n",
        "\n",
        "Q18: In what situations are lists preferred over dictionaries?\n",
        "\n",
        "  - Answer:\n",
        "\n",
        "  Lists are preferred when:\n",
        "\n",
        "    The data needs to be ordered and accessed by position (index).\n",
        "\n",
        "    When need to store duplicate values.\n",
        "\n",
        "    The collection is simple and small, where key-based lookup is not necessary.\n",
        "\n",
        "    Whne we plan to perform operations like sorting or iterating over elements in order.\n",
        "\n",
        "Q19: Why are dictionaries considered unordered, and how does that affect data retrieval?\n",
        "\n",
        "  - Answer:\n",
        "\n",
        "  Before Python 3.7, dictionaries were considered unordered because they did not maintain the order in which items were added. This meant data retrieval order was unpredictable. However, from Python 3.7 onward, dictionaries preserve insertion order.\n",
        "\n",
        "  Regardless of order, dictionaries provide fast access to values by key using a hash table, so data retrieval remains efficient even if the order is not guaranteed (in older versions).\n",
        "\n",
        "Q20: Explain the difference between a list and a dictionary in terms of data retrieval.\n",
        "\n",
        "  - Answer:\n",
        "\n",
        "    List: Data is retrieved by index position (e.g., list[0]). To find a specific value, Python may need to search through the list, which takes O(n) time in the worst case.\n",
        "\n",
        "    Dictionary: Data is retrieved by key (e.g., dict[\"key\"]). Using a hash table, dictionaries provide fast access with average time complexity of O(1), making lookups much quicker than lists for large data."
      ],
      "metadata": {
        "id": "LeZNo4NRQfVr"
      }
    },
    {
      "cell_type": "code",
      "execution_count": 2,
      "metadata": {
        "colab": {
          "base_uri": "https://localhost:8080/"
        },
        "id": "af_ueUBRP3oH",
        "outputId": "c234aef1-7a1b-42cd-c8cf-efce2ded7fb5"
      },
      "outputs": [
        {
          "output_type": "stream",
          "name": "stdout",
          "text": [
            "My name is Bitu Kumar Nath\n"
          ]
        }
      ],
      "source": [
        "# Write a code to create a string with your name and print it\n",
        "\n",
        "my_name = \"Bitu Kumar Nath\"\n",
        "print(\"My name is\", my_name)\n"
      ]
    },
    {
      "cell_type": "code",
      "source": [
        "# Write a code to find the length of the string \"Hello World\"\n",
        "\n",
        "string = \"Hello World\"\n",
        "length = len(string)\n",
        "print(length)\n"
      ],
      "metadata": {
        "colab": {
          "base_uri": "https://localhost:8080/"
        },
        "id": "95Vdx_YCq68A",
        "outputId": "216f10c6-58d8-41c8-b537-53a9abfcf4b1"
      },
      "execution_count": 3,
      "outputs": [
        {
          "output_type": "stream",
          "name": "stdout",
          "text": [
            "11\n"
          ]
        }
      ]
    },
    {
      "cell_type": "code",
      "source": [
        "# Write a code to slice the first 3 characters from the string \"Python\n",
        "# Programming\"\n",
        "\n",
        "text = \"Python Programming\"\n",
        "sliced = text[:3]\n",
        "print(sliced)\n"
      ],
      "metadata": {
        "colab": {
          "base_uri": "https://localhost:8080/"
        },
        "id": "t9qVKdx6ri3r",
        "outputId": "0d3bd7ef-a1da-4346-a341-1eb5caa6a7c1"
      },
      "execution_count": 4,
      "outputs": [
        {
          "output_type": "stream",
          "name": "stdout",
          "text": [
            "Pyt\n"
          ]
        }
      ]
    },
    {
      "cell_type": "markdown",
      "source": [],
      "metadata": {
        "id": "Xdl7LWhfQWRb"
      }
    },
    {
      "cell_type": "code",
      "source": [
        "# Write a code to convert the string \"hello\" to uppercase\n",
        "\n",
        "text = \"hello\"\n",
        "upper_text = text.upper()\n",
        "print(upper_text)\n"
      ],
      "metadata": {
        "colab": {
          "base_uri": "https://localhost:8080/"
        },
        "id": "S38EmwYkrqCb",
        "outputId": "217b1671-31cc-474d-b4d6-944a590a87db"
      },
      "execution_count": 5,
      "outputs": [
        {
          "output_type": "stream",
          "name": "stdout",
          "text": [
            "HELLO\n"
          ]
        }
      ]
    },
    {
      "cell_type": "code",
      "source": [
        "# Write a code to replace the word \"apple\" with \"orange\" in the string\n",
        "# \"I like apple\"\n",
        "\n",
        "text = \"I like apple\"\n",
        "new_text = text.replace(\"apple\", \"orange\")\n",
        "print(new_text)\n"
      ],
      "metadata": {
        "colab": {
          "base_uri": "https://localhost:8080/"
        },
        "id": "hmWmJUGDr3Df",
        "outputId": "dc6defbd-2cf1-42ac-905c-1a5c20c811d8"
      },
      "execution_count": 6,
      "outputs": [
        {
          "output_type": "stream",
          "name": "stdout",
          "text": [
            "I like orange\n"
          ]
        }
      ]
    },
    {
      "cell_type": "code",
      "source": [
        "# Write a code to create a list with numbers 1 to 5 and print it\n",
        "\n",
        "numbers = [1, 2, 3, 4, 5]\n",
        "print(numbers)\n"
      ],
      "metadata": {
        "colab": {
          "base_uri": "https://localhost:8080/"
        },
        "id": "KtFumR6ysKPA",
        "outputId": "664beffc-c6a2-48c9-e3f2-7a5fa2697744"
      },
      "execution_count": 7,
      "outputs": [
        {
          "output_type": "stream",
          "name": "stdout",
          "text": [
            "[1, 2, 3, 4, 5]\n"
          ]
        }
      ]
    },
    {
      "cell_type": "code",
      "source": [
        "# Write a code to append the number 10 to the list [1, 2, 3, 4]\n",
        "\n",
        "numbers = [1, 2, 3, 4]\n",
        "numbers.append(10)\n",
        "print(numbers)\n"
      ],
      "metadata": {
        "colab": {
          "base_uri": "https://localhost:8080/"
        },
        "id": "W1aYlCaosTx3",
        "outputId": "de574b6e-c8d2-4a78-9587-60f7b91fe3d7"
      },
      "execution_count": 8,
      "outputs": [
        {
          "output_type": "stream",
          "name": "stdout",
          "text": [
            "[1, 2, 3, 4, 10]\n"
          ]
        }
      ]
    },
    {
      "cell_type": "code",
      "source": [
        "# Write a code to remove the number 3 from the list [1, 2, 3, 4, 5]\n",
        "\n",
        "numbers = [1, 2, 3, 4, 5]\n",
        "numbers.remove(3)\n",
        "print(numbers)\n"
      ],
      "metadata": {
        "colab": {
          "base_uri": "https://localhost:8080/"
        },
        "id": "xhm62BLbsb7z",
        "outputId": "809c56fe-92c3-466f-aec0-8dcc18d3c3d5"
      },
      "execution_count": 9,
      "outputs": [
        {
          "output_type": "stream",
          "name": "stdout",
          "text": [
            "[1, 2, 4, 5]\n"
          ]
        }
      ]
    },
    {
      "cell_type": "code",
      "source": [
        "# Write a code to access the second element in the list ['a', 'b', 'c', 'd']\n",
        "\n",
        "letters = ['a', 'b', 'c', 'd']\n",
        "second_element = letters[1]\n",
        "print(second_element)\n"
      ],
      "metadata": {
        "colab": {
          "base_uri": "https://localhost:8080/"
        },
        "id": "BLiJjBI9siFA",
        "outputId": "fb76ef27-1f6b-433c-a5a1-f0a721f81b06"
      },
      "execution_count": 10,
      "outputs": [
        {
          "output_type": "stream",
          "name": "stdout",
          "text": [
            "b\n"
          ]
        }
      ]
    },
    {
      "cell_type": "code",
      "source": [
        "# Write a code to reverse the list [10, 20, 30, 40, 50].\n",
        "\n",
        "numbers = [10, 20, 30, 40, 50]\n",
        "numbers.reverse()\n",
        "print(numbers)\n"
      ],
      "metadata": {
        "colab": {
          "base_uri": "https://localhost:8080/"
        },
        "id": "99gD3cjOspHR",
        "outputId": "0da1aabb-2c4e-40a0-aebf-2f0116e5e304"
      },
      "execution_count": 11,
      "outputs": [
        {
          "output_type": "stream",
          "name": "stdout",
          "text": [
            "[50, 40, 30, 20, 10]\n"
          ]
        }
      ]
    },
    {
      "cell_type": "code",
      "source": [
        "#  Write a code to create a tuple with the elements 100, 200, 300 and print it\n",
        "\n",
        "my_tuple = (100, 200, 300)\n",
        "print(my_tuple)\n"
      ],
      "metadata": {
        "colab": {
          "base_uri": "https://localhost:8080/"
        },
        "id": "SLAHNNscsyHt",
        "outputId": "117278d2-49c1-4eea-c7b9-aa658afe01f1"
      },
      "execution_count": 12,
      "outputs": [
        {
          "output_type": "stream",
          "name": "stdout",
          "text": [
            "(100, 200, 300)\n"
          ]
        }
      ]
    },
    {
      "cell_type": "code",
      "source": [
        "#  Write a code to access the second-to-last element of the tuple\n",
        "#  ('red', 'green', 'blue', 'yellow')\n",
        "\n",
        "colors = ('red', 'green', 'blue', 'yellow')\n",
        "second_to_last = colors[-2]\n",
        "print(second_to_last)\n"
      ],
      "metadata": {
        "colab": {
          "base_uri": "https://localhost:8080/"
        },
        "id": "vaJvYTwOs1Za",
        "outputId": "2c762034-3269-47d2-d36a-d2cbef587d6a"
      },
      "execution_count": 13,
      "outputs": [
        {
          "output_type": "stream",
          "name": "stdout",
          "text": [
            "blue\n"
          ]
        }
      ]
    },
    {
      "cell_type": "code",
      "source": [
        "# Write a code to find the minimum number in the tuple (10, 20, 5, 15).\n",
        "\n",
        "numbers = (10, 20, 5, 15)\n",
        "minimum = min(numbers)\n",
        "print(minimum)\n"
      ],
      "metadata": {
        "colab": {
          "base_uri": "https://localhost:8080/"
        },
        "id": "WAmv--s0s7bo",
        "outputId": "5fd3dfec-d5c9-4b3f-c9e1-fd84b347f055"
      },
      "execution_count": 14,
      "outputs": [
        {
          "output_type": "stream",
          "name": "stdout",
          "text": [
            "5\n"
          ]
        }
      ]
    },
    {
      "cell_type": "code",
      "source": [
        "# Write a code to find the index of the element \"cat\" in the tuple\n",
        "# ('dog', 'cat', 'rabbit').\n",
        "\n",
        "animals = ('dog', 'cat', 'rabbit')\n",
        "index = animals.index('cat')\n",
        "print(index)\n"
      ],
      "metadata": {
        "colab": {
          "base_uri": "https://localhost:8080/"
        },
        "id": "-UmJw4dqtAkK",
        "outputId": "95703c90-ec73-41f7-a87b-e87cd2c62411"
      },
      "execution_count": 15,
      "outputs": [
        {
          "output_type": "stream",
          "name": "stdout",
          "text": [
            "1\n"
          ]
        }
      ]
    },
    {
      "cell_type": "code",
      "source": [
        "# Write a code to create a tuple containing three different fruits and\n",
        "# check if \"kiwi\" is in it.\n",
        "\n",
        "fruits = (\"apple\", \"banana\", \"orange\")\n",
        "print(\"kiwi\" in fruits)\n"
      ],
      "metadata": {
        "colab": {
          "base_uri": "https://localhost:8080/"
        },
        "id": "0MFRlgJdtII-",
        "outputId": "c604915f-ff07-419f-aab4-97103c779ab8"
      },
      "execution_count": 16,
      "outputs": [
        {
          "output_type": "stream",
          "name": "stdout",
          "text": [
            "False\n"
          ]
        }
      ]
    },
    {
      "cell_type": "code",
      "source": [
        "# Write a code to create a set with the elements 'a', 'b', 'c' and print it.\n",
        "\n",
        "my_set = {'a', 'b', 'c'}\n",
        "print(my_set)\n"
      ],
      "metadata": {
        "colab": {
          "base_uri": "https://localhost:8080/"
        },
        "id": "POTSbLzltjoi",
        "outputId": "f18614c8-0872-4f29-8ae4-8a5b61657940"
      },
      "execution_count": 17,
      "outputs": [
        {
          "output_type": "stream",
          "name": "stdout",
          "text": [
            "{'a', 'b', 'c'}\n"
          ]
        }
      ]
    },
    {
      "cell_type": "code",
      "source": [
        "# Write a code to clear all elements from the set {1, 2, 3, 4, 5}\n",
        "\n",
        "numbers = {1, 2, 3, 4, 5}\n",
        "numbers.clear()\n",
        "print(numbers)\n"
      ],
      "metadata": {
        "colab": {
          "base_uri": "https://localhost:8080/"
        },
        "id": "nv5h4aLMtocO",
        "outputId": "febe5a8d-f586-469d-9de4-74628923b4cc"
      },
      "execution_count": 18,
      "outputs": [
        {
          "output_type": "stream",
          "name": "stdout",
          "text": [
            "set()\n"
          ]
        }
      ]
    },
    {
      "cell_type": "code",
      "source": [
        "# Write a code to remove the element 4 from the set {1, 2, 3, 4}.\n",
        "\n",
        "numbers = {1, 2, 3, 4}\n",
        "numbers.remove(4)\n",
        "print(numbers)\n"
      ],
      "metadata": {
        "colab": {
          "base_uri": "https://localhost:8080/"
        },
        "id": "7Z8Rxevot22G",
        "outputId": "016193f8-253f-4354-e819-b948bc387f22"
      },
      "execution_count": 19,
      "outputs": [
        {
          "output_type": "stream",
          "name": "stdout",
          "text": [
            "{1, 2, 3}\n"
          ]
        }
      ]
    },
    {
      "cell_type": "code",
      "source": [
        "# Write a code to find the union of two sets {1, 2, 3} and {3, 4, 5}.\n",
        "\n",
        "set1 = {1, 2, 3}\n",
        "set2 = {3, 4, 5}\n",
        "union_set = set1.union(set2)\n",
        "print(union_set)\n"
      ],
      "metadata": {
        "colab": {
          "base_uri": "https://localhost:8080/"
        },
        "id": "F2DHL5VtuC_0",
        "outputId": "7a41502f-bb83-49cf-8a70-ee094266c20f"
      },
      "execution_count": 20,
      "outputs": [
        {
          "output_type": "stream",
          "name": "stdout",
          "text": [
            "{1, 2, 3, 4, 5}\n"
          ]
        }
      ]
    },
    {
      "cell_type": "code",
      "source": [
        "# Write a code to find the intersection of two sets {1, 2, 3} and {2, 3, 4}.\n",
        "\n",
        "set1 = {1, 2, 3}\n",
        "set2 = {2, 3, 4}\n",
        "intersection_set = set1.intersection(set2)\n",
        "print(intersection_set)\n"
      ],
      "metadata": {
        "colab": {
          "base_uri": "https://localhost:8080/"
        },
        "id": "oc77L-dEuIA1",
        "outputId": "e3145d9d-8db4-43bb-f780-ab71a48d3509"
      },
      "execution_count": 21,
      "outputs": [
        {
          "output_type": "stream",
          "name": "stdout",
          "text": [
            "{2, 3}\n"
          ]
        }
      ]
    },
    {
      "cell_type": "code",
      "source": [
        "# Write a code to create a dictionary with the keys \"name\", \"age\", and\n",
        "# \"city\", and print it.\n",
        "\n",
        "person = {\n",
        "    \"name\": \"Alice\",\n",
        "    \"age\": 30,\n",
        "    \"city\": \"New York\"\n",
        "}\n",
        "print(person)\n"
      ],
      "metadata": {
        "colab": {
          "base_uri": "https://localhost:8080/"
        },
        "id": "DKuwAVRruNCr",
        "outputId": "d2bdcb4b-4519-40f8-ffcf-5628f39e4a21"
      },
      "execution_count": 22,
      "outputs": [
        {
          "output_type": "stream",
          "name": "stdout",
          "text": [
            "{'name': 'Alice', 'age': 30, 'city': 'New York'}\n"
          ]
        }
      ]
    },
    {
      "cell_type": "code",
      "source": [
        "# Write a code to add a new key-value pair \"country\": \"USA\" to the\n",
        "# dictionary {'name': 'John', 'age': 25}.\n",
        "\n",
        "person = {'name': 'John', 'age': 25}\n",
        "person['country'] = 'USA'\n",
        "print(person)\n"
      ],
      "metadata": {
        "colab": {
          "base_uri": "https://localhost:8080/"
        },
        "id": "7FuBwILjuqRv",
        "outputId": "c148eb6a-ca32-48c4-9831-fda972ec8b1e"
      },
      "execution_count": 23,
      "outputs": [
        {
          "output_type": "stream",
          "name": "stdout",
          "text": [
            "{'name': 'John', 'age': 25, 'country': 'USA'}\n"
          ]
        }
      ]
    },
    {
      "cell_type": "code",
      "source": [
        "#  Write a code to access the value associated with the key \"name\"\n",
        "#  in the dictionary {'name': 'Alice', 'age': 30}.\n",
        "\n",
        "person = {'name': 'Alice', 'age': 30}\n",
        "name_value = person['name']\n",
        "print(name_value)\n"
      ],
      "metadata": {
        "colab": {
          "base_uri": "https://localhost:8080/"
        },
        "id": "D5RlMZMTuy6H",
        "outputId": "72e5c828-7aa3-4662-9a35-94e14ab2bfa6"
      },
      "execution_count": 24,
      "outputs": [
        {
          "output_type": "stream",
          "name": "stdout",
          "text": [
            "Alice\n"
          ]
        }
      ]
    },
    {
      "cell_type": "code",
      "source": [
        "# Write a code to remove the key \"age\" from the dictionary\n",
        "# {'name': 'Bob', 'age': 22, 'city': 'New York'}.\n",
        "\n",
        "person = {'name': 'Bob', 'age': 22, 'city': 'New York'}\n",
        "person.pop('age')\n",
        "print(person)\n"
      ],
      "metadata": {
        "colab": {
          "base_uri": "https://localhost:8080/"
        },
        "id": "W3h5yGsbu5qb",
        "outputId": "ea37a37a-20e6-4832-fc46-461116c69af4"
      },
      "execution_count": 25,
      "outputs": [
        {
          "output_type": "stream",
          "name": "stdout",
          "text": [
            "{'name': 'Bob', 'city': 'New York'}\n"
          ]
        }
      ]
    },
    {
      "cell_type": "code",
      "source": [
        "# Write a code to check if the key \"city\" exists in the dictionary\n",
        "# {'name': 'Alice', 'city': 'Paris'}.\n",
        "\n",
        "person = {'name': 'Alice', 'city': 'Paris'}\n",
        "print(\"city\" in person)\n"
      ],
      "metadata": {
        "colab": {
          "base_uri": "https://localhost:8080/"
        },
        "id": "VOQpzNsVvAXw",
        "outputId": "749f766f-fc0a-4d57-dc23-83f70a6690b4"
      },
      "execution_count": 26,
      "outputs": [
        {
          "output_type": "stream",
          "name": "stdout",
          "text": [
            "True\n"
          ]
        }
      ]
    },
    {
      "cell_type": "code",
      "source": [
        "# Write a code to create a list, a tuple, and a dictionary, and print them all.\n",
        "\n",
        "my_list = [1, 2, 3]\n",
        "my_tuple = ('a', 'b', 'c')\n",
        "my_dict = {'name': 'John', 'age': 25}\n",
        "\n",
        "print(my_list)\n",
        "print(my_tuple)\n",
        "print(my_dict)\n"
      ],
      "metadata": {
        "colab": {
          "base_uri": "https://localhost:8080/"
        },
        "id": "opg1XnRSvGmk",
        "outputId": "e7627a4b-5f61-4203-cb94-f82e4a06b494"
      },
      "execution_count": 27,
      "outputs": [
        {
          "output_type": "stream",
          "name": "stdout",
          "text": [
            "[1, 2, 3]\n",
            "('a', 'b', 'c')\n",
            "{'name': 'John', 'age': 25}\n"
          ]
        }
      ]
    },
    {
      "cell_type": "code",
      "source": [
        "# Write a code to create a list of 5 random numbers between 1 and\n",
        "# 100, sort it in ascending order, and print the result.\n",
        "\n",
        "import random\n",
        "\n",
        "random_numbers = [random.randint(1, 100) for _ in range(5)]\n",
        "random_numbers.sort()\n",
        "print(random_numbers)\n"
      ],
      "metadata": {
        "colab": {
          "base_uri": "https://localhost:8080/"
        },
        "id": "R0_psHyvvNZ2",
        "outputId": "bfd95170-df0c-4064-b317-5328cc4b78a8"
      },
      "execution_count": 28,
      "outputs": [
        {
          "output_type": "stream",
          "name": "stdout",
          "text": [
            "[31, 36, 61, 73, 98]\n"
          ]
        }
      ]
    },
    {
      "cell_type": "code",
      "source": [
        "# Write a code to create a list with strings and print the element at the\n",
        "# third index\n",
        "\n",
        "my_list = [\"apple\", \"banana\", \"cherry\", \"date\", \"fig\"]\n",
        "print(my_list[3])\n"
      ],
      "metadata": {
        "colab": {
          "base_uri": "https://localhost:8080/"
        },
        "id": "BNtoq7mdv09Q",
        "outputId": "49021deb-d0b5-4971-9af0-cf3e11f58a0c"
      },
      "execution_count": 29,
      "outputs": [
        {
          "output_type": "stream",
          "name": "stdout",
          "text": [
            "date\n"
          ]
        }
      ]
    },
    {
      "cell_type": "code",
      "source": [
        "# Write a code to combine two dictionaries into one and print the result.\n",
        "\n",
        "dict1 = {'a': 1, 'b': 2}\n",
        "dict2 = {'c': 3, 'd': 4}\n",
        "\n",
        "combined_dict = {**dict1, **dict2}\n",
        "print(combined_dict)\n"
      ],
      "metadata": {
        "colab": {
          "base_uri": "https://localhost:8080/"
        },
        "id": "tStF3p1mv_a7",
        "outputId": "2b70ef72-754b-4b93-aab9-3d00cc7eacb3"
      },
      "execution_count": 30,
      "outputs": [
        {
          "output_type": "stream",
          "name": "stdout",
          "text": [
            "{'a': 1, 'b': 2, 'c': 3, 'd': 4}\n"
          ]
        }
      ]
    },
    {
      "cell_type": "code",
      "source": [
        "# Write a code to convert a list of strings into a set.\n",
        "\n",
        "my_list = [\"apple\", \"banana\", \"apple\", \"cherry\"]\n",
        "my_set = set(my_list)\n",
        "print(my_set)\n"
      ],
      "metadata": {
        "colab": {
          "base_uri": "https://localhost:8080/"
        },
        "id": "00VMggj2wDcj",
        "outputId": "53880d73-72b5-48fc-c82c-c3b7b056a754"
      },
      "execution_count": 31,
      "outputs": [
        {
          "output_type": "stream",
          "name": "stdout",
          "text": [
            "{'apple', 'cherry', 'banana'}\n"
          ]
        }
      ]
    }
  ]
}